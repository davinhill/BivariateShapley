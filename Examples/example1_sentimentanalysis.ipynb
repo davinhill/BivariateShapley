{
  "cells": [
    {
      "cell_type": "markdown",
      "metadata": {
        "colab_type": "text",
        "id": "view-in-github"
      },
      "source": [
        "<a href=\"https://colab.research.google.com/github/davinhill/BivariateShapley/blob/main/Examples/example1_sentimentanalysis.ipynb\" target=\"_parent\"><img src=\"https://colab.research.google.com/assets/colab-badge.svg\" alt=\"Open In Colab\"/></a>"
      ]
    },
    {
      "cell_type": "markdown",
      "metadata": {
        "id": "wIc8vkMwvBYL"
      },
      "source": [
        "# Example: Explain a Sentiment Analysis classifier\n",
        "\n",
        "In sentiment analysis we take text samples as input and predict whether the sample exhibits positive or negative sentiment. After training our classifier we are interesting in understand which words are important with respect to the prediction as well as directional interactions between the words. In this example, we apply Bivariate Shapley to a pre-trained transformer from [HuggingFace](https://huggingface.co) [1]."
      ]
    },
    {
      "cell_type": "code",
      "execution_count": null,
      "metadata": {
        "id": "PEPufku_FhwA"
      },
      "outputs": [],
      "source": [
        "%%capture\n",
        "\n",
        "# Download additional packages if using Google Colab\n",
        "\n",
        "try:\n",
        "    import google.colab # check if using Google Colab\n",
        "\n",
        "    !apt install libgraphviz-dev\n",
        "    !pip install transformers shap scikit-network networkx pygraphviz\n",
        "    !git clone https://github.com/davinhill/BivariateShapley.git\n",
        "\n",
        "    import sys\n",
        "    sys.path.append('./BivariateShapley')\n",
        "\n",
        "except:\n",
        "    pass"
      ]
    },
    {
      "cell_type": "code",
      "execution_count": null,
      "metadata": {
        "id": "0DRsKSXAFiz7"
      },
      "outputs": [],
      "source": [
        "# Import packages\n",
        "\n",
        "import transformers\n",
        "from transformers import BertTokenizerFast\n",
        "import numpy as np\n",
        "import pandas as pd\n",
        "import matplotlib.pyplot as plt\n",
        "import seaborn as sns\n",
        "import networkx as nx\n",
        "from IPython.display import Image\n",
        "\n",
        "from BivariateShapley.utils_shapley import *\n",
        "from BivariateShapley.shapley_kernel import Bivariate_KernelExplainer\n",
        "\n"
      ]
    },
    {
      "cell_type": "markdown",
      "metadata": {
        "id": "FNV9pDDN0Ojh"
      },
      "source": [
        "# Prepare Model, Data, and Explainer\n",
        "\n",
        "We need 3 things to to run Bivariate Shapley:\n",
        "1. A Utility Function to evaluate\n",
        "2. A Data sample to explain\n",
        "3. Specified Reference Values\n",
        "\n",
        "\n",
        "<br />\n",
        "\n",
        "\n",
        "1) The **Utility Function** is some function $u:\\mathbb{R}^d \\rightarrow \\mathbb{R}$ that takes the d-dimensional data samples as input and returns a score. In our context, this is the output of the transformer model. Since the Bivariate Shapley explainer expects a vectorized data samples instead of text, we can code a wrapper function eval_transformer() includes a tokenization step. The \"score\" for our model is the predicted probability of positive sentiment.\n",
        "\n",
        "\n",
        "<br />\n",
        "\n",
        "\n",
        "2) The **Data sample** is the d-dimensional test sample that we wish to explain.\n",
        "\n",
        "\n",
        "<br />\n",
        "\n",
        "\n",
        "3) In addition, since we are using a feature removal method, we need to specify the **reference values** that are used to represent \"removed\" features (see [Covert et al](https://arxiv.org/abs/2011.03623) [2] section 4.2 for a good overview). These reference values should be drawn from some non-informative reference distribution; most Shapley methods specify the use of training samples to represent the training distribution.\n",
        "\n",
        "In our case, we can set these reference values to the token value 103 which represents a masked value in the bert-base-cased tokenizer."
      ]
    },
    {
      "cell_type": "code",
      "execution_count": null,
      "metadata": {
        "colab": {
          "base_uri": "https://localhost:8080/"
        },
        "id": "HB2HCuPLFsN2",
        "outputId": "4d84289d-940c-4928-8b20-0a787b8b64fb"
      },
      "outputs": [],
      "source": [
        "\n",
        "# download sentiment analysis model from huggingface\n",
        "model = transformers.pipeline('sentiment-analysis')\n",
        "tokenizer = BertTokenizerFast.from_pretrained('bert-base-cased')\n",
        "\n",
        "\n",
        "# define utility function wrapper for the huggingface model\n",
        "# utility function takes input as x, and returns a score\n",
        "class eval_transformer():\n",
        "    def __init__(self, model, tokenizer = BertTokenizerFast.from_pretrained('bert-base-cased'), **kwargs):\n",
        "        self.model = model\n",
        "        #self.baseline = None\n",
        "        self.tokenizer = tokenizer\n",
        "\n",
        "    def __call__(self, x, **kwargs):\n",
        "\n",
        "        n = x.shape[0]\n",
        "        x = x.astype(dtype = 'int')\n",
        "        x = x.tolist()\n",
        "        x_tkn = self.tokenizer.batch_decode(x)\n",
        "        output = self.model(x_tkn)\n",
        "        score = []\n",
        "        for i in range(n):\n",
        "            score.append(output[i]['score'])\n",
        "        score = np.array(score)\n",
        "        return score"
      ]
    },
    {
      "cell_type": "markdown",
      "metadata": {
        "id": "tnNfpjYQFEZX"
      },
      "source": [
        "# Explain Data Sample\n",
        "Here is the phrase that we want to predict / explain:"
      ]
    },
    {
      "cell_type": "code",
      "execution_count": null,
      "metadata": {
        "id": "JDoJDB3kHLsN"
      },
      "outputs": [],
      "source": [
        "x = 'this table is ugly and hideous'"
      ]
    },
    {
      "cell_type": "markdown",
      "metadata": {
        "id": "77E6OQ48FNfF"
      },
      "source": [
        "Now we can initialize the explainer. The Bivariate Shapley-K method (BivShap-K) takes advantage of the KernelSHAP algorithm which is implemented in the excellent and well-documented [SHAP](https://github.com/slundberg/shap) package [3]. KernelSHAP is a model-agnostic explanation method used to approximate (univariate) SHAP values.\n",
        "\n",
        "BivShap-K uses a number of tricks from KernelSHAP to speed up the Bivariate Shapley approximation. Since BivShap-K is built on top of KernelSHAP, the Bivariate_KernelExplainer class takes many of the same arguments as [shap.KernelExplainer](https://shap-lrjball.readthedocs.io/en/latest/generated/shap.KernelExplainer.html)."
      ]
    },
    {
      "cell_type": "code",
      "execution_count": null,
      "metadata": {
        "colab": {
          "base_uri": "https://localhost:8080/",
          "height": 49,
          "referenced_widgets": [
            "26959d02d01b4c1387a2b484b102216d",
            "6c31944bca8140029e35b220d012413a",
            "96e038db0a55491a974e320dc2daad4f",
            "de8f12993583408db23c286cd2b5c2d8",
            "1a61a9829d09466e98f723ea3e9199c2",
            "dd3d9619f30a4b8f9fb6026683e74e1b",
            "020392110cdc439cb152de7ea907be58",
            "ef750be928c54f73890e2d42a952ee81",
            "b4f8200d39254c3994818322bdd4135c",
            "cf61511b52d14773b5b9bfc198c5a2d5",
            "b7705325522f422d8aae2feda1eb106c"
          ]
        },
        "id": "_mwmInk7M_Ts",
        "outputId": "76daf5ce-ba12-4363-cdf3-03e2c3d8e09b"
      },
      "outputs": [],
      "source": [
        "value_function = eval_transformer(model) # initialize the value function\n",
        "x_tkn = np.array(encode(x)).reshape(1,-1) # tokenize the input sentence\n",
        "x_train = np.zeros_like(x_tkn) + 103 # define the reference values to be token 103\n",
        "explainer = Bivariate_KernelExplainer(value_function, x_train) # initialize BivShap-K\n",
        "\n",
        "\n",
        "# Explain Sample\n",
        "uni_shapley = explainer.shap_values(x_tkn, l1_reg = False) # univariate shapley values\n",
        "biv_shapley_G = explainer.phi_b # bivariate shapley values\n",
        "\n"
      ]
    },
    {
      "cell_type": "markdown",
      "metadata": {
        "id": "fqzfPWqRIlq-"
      },
      "source": [
        "Running Bivariate_KernelExplainer calculates both Univariate Shapley (SHAP) and Bivariate Shapley values simultaneously. Let's visualize the calculated Shapley values in a heatmap:"
      ]
    },
    {
      "cell_type": "code",
      "execution_count": null,
      "metadata": {
        "colab": {
          "base_uri": "https://localhost:8080/",
          "height": 671
        },
        "id": "6KM6Wo1jN8Rr",
        "outputId": "66398dd0-2050-4b16-dc9b-a2f0381d9394"
      },
      "outputs": [],
      "source": [
        "fig, axes = plt.subplots(2, 1, figsize=(12, 12), sharey=False, sharex = False, gridspec_kw={'height_ratios':[4,30]})\n",
        "node_labels = tokenizer.batch_decode(tokenizer.encode(x, add_special_tokens = False))\n",
        "annot_flag = True\n",
        "\n",
        "min_value = min(uni_shapley.min(), biv_shapley_G.min())\n",
        "max_value = max(uni_shapley.max(), biv_shapley_G.max())\n",
        "\n",
        "# univariate =======================\n",
        "tmp = pd.DataFrame(uni_shapley.reshape(1, -1).round(2))\n",
        "tmp.columns = node_labels\n",
        "#tmp = tmp.transpose()\n",
        "sns.heatmap(tmp, square=True, annot = annot_flag, center = 0,cbar_kws = dict(use_gridspec=False,location=\"bottom\"), ax = axes[0], vmin = min_value, vmax = max_value, cbar = False)\n",
        "\n",
        "# bivariate =======================\n",
        "tmp = pd.DataFrame(biv_shapley_G.round(2))\n",
        "tmp.columns = node_labels\n",
        "tmp.index = node_labels\n",
        "\n",
        "sns.heatmap(tmp, square=True, annot = annot_flag, center = 0,cbar_kws = dict(use_gridspec=False,location=\"bottom\"), ax = axes[1], vmin = min_value, vmax = max_value)\n",
        "\n",
        "axes[0].set_title('Univariate Shapley')\n",
        "axes[1].set_title('Bivariate Shapley')\n",
        "plt.show()"
      ]
    },
    {
      "cell_type": "markdown",
      "metadata": {
        "id": "lQCah45bJ9AR"
      },
      "source": [
        "## Understanding the Bivariate Shapley Formulation\n",
        "\n",
        "Recall the utility function formulation for Bivariate Shapley (Eq. 5 in the paper):\n",
        "\n",
        "$$ u_{i}: P(D) \\to \\mathbb{R} \\quad \\text{s.t.} \\quad \\, \\forall S\\in P(D),\\, u_{i}(S) = \\begin{cases} \n",
        "u(S), &\\text{if}~i\\in S, \\\\\n",
        "0, &\\text{if}~i\\notin S.\n",
        "\\end{cases}$$\n",
        "\n",
        "Where $u_i$ is the utility function for feature $i$, $P(D)$ is the power set for $D$ features, $S$ is the subset of features selected by the Shapley calculation. Note that we have $D$ utility functions, and we apply each utility function to $D$ features, which results in a $D\\times D$ matrix. Each element of this matrix represents a directional interaction between the row and column features.\n",
        "\n",
        "<br />\n",
        "\n",
        "The intuition behind this formulation is that we are \"filtering\" the utility function from the standard univariate Shapley calculation. Whenever the selected subset of features $S$ *does not* includes feature $i$ (i.e. feature $i$ is already \"removed\"), then the utility function is set to 0. Each feature $i$ represents a separate column in the $D \\times D$ Bivariate Shapley matrix. Therefore we can think of each column of the Bivariate Shapley matrix as a separate Univariate Shapley calculation; each being \"filtered\" with respect to a different feature.\n",
        "\n",
        "<br />\n",
        "\n",
        "##Interpreting the Bivariate Shapley Matrix\n",
        "\n",
        "We can think of each row $j$ of the Bivariate Shapley Matrix as the Shapley value for feature $j$ conditioned on the column feature $i$ being \"present\" in the Shapley calculation.\n",
        "\n",
        "If an element $(j,i)$ of the matrix has **low value**, this indicates that feature $j$ is relatively unimportant (low Shapley value) when feature $i$ is present. This suggests that when the black-box model has information from feature $i$, it no longer needs feature $j$, therefore the Bivariate Shapley value is low.\n",
        "\n",
        "Conversely, if element $(j,i)$ of the matrix has **high value**, this suggests that having feature $i$ has little effect on the importance of feature $j$.\n",
        "\n",
        "<br />\n",
        "\n",
        "In our example above, we see that the word \"hideous\" has high univariate Shapley value, indicating that is an important feature. However, the Bivariate Shapley value for (Hideous, Ugly) is 0, which indicates that when the model has the word \"Ugly\" in the input, the word \"Hideous\" becomes unimportant; i.e. it is redundant.\n",
        "\n",
        "\n",
        "---\n",
        "\n"
      ]
    },
    {
      "cell_type": "markdown",
      "metadata": {
        "id": "zdz6tGnWTa-N"
      },
      "source": [
        "# The $\\mathcal{G}$-graph\n",
        "\n",
        "\n",
        "Another way to interpret the Bivariate Shapley Matrix is as an adjacency matrix of a weighted, directed graph. The direction of the edges $i \\rightarrow j$ indicates feature importance value of $j$ given that feature $i$ is present.\n",
        "\n",
        "<br />\n",
        "\n",
        "Below we can visualize this graph using [NetworkX](https://networkx.org) and [Pygraphviz](https://pygraphviz.github.io). Note that this plot can take a while to generate if you are trying to plot a large number of features."
      ]
    },
    {
      "cell_type": "code",
      "execution_count": null,
      "metadata": {
        "colab": {
          "base_uri": "https://localhost:8080/",
          "height": 540
        },
        "id": "AUXohWMeT6U4",
        "outputId": "8b6cec0b-a8f7-41c3-f3e6-729f58bb760e"
      },
      "outputs": [],
      "source": [
        "plot_graph(biv_shapley_G.round(2), node_labels, save_path = './graph.png', label_edge_weights = True)\n",
        "Image(filename='graph.png') "
      ]
    },
    {
      "cell_type": "markdown",
      "metadata": {
        "id": "n3Iyd-Kgq57z"
      },
      "source": [
        "## Top Influential Features on $\\mathcal{G}$\n",
        "\n",
        "As well as being a nice visualization tool, the graph interpretation of Bivariate Shapley allows us to identify a number of key properties within the feature interactions. In particular, note that highly-weighted edges indicate that the head feature retains high Shapley value even when the tail feature is present. This suggests that the sinks of the $\\mathcal{G}$-graph (we call these $\\mathcal{G}$-sinks) represent the features that carry the most information with respect to the prediction; i.e. these are the features that retain high Shapley values in the presence of other features. \n",
        "\n",
        "<br />\n",
        "\n",
        "While we could simply consider the $\\mathcal{G}$-sinks as a group of influential features, in many applications it's preferable to have a continuous ranking of the features. We can do this using the PageRank [4] algorithm, which gives an estimate of each feature's \"sinkness\". Therefore this gives us a ranking of features based on how much information a feature provides to the prediction"
      ]
    },
    {
      "cell_type": "code",
      "execution_count": null,
      "metadata": {
        "colab": {
          "base_uri": "https://localhost:8080/",
          "height": 252
        },
        "id": "a2Ew72uaVNsC",
        "outputId": "88490221-0905-47dc-bcab-04258cbe5448"
      },
      "outputs": [],
      "source": [
        "scores = calc_PR_scores(biv_shapley_G, personalize = True, shapley_values = uni_shapley.reshape(-1))\n",
        "\n",
        "\n",
        "print(\"Feature Ranking, in descending order of influence (most important first):\")\n",
        "score_tbl = pd.DataFrame(np.concatenate((np.array(node_labels).reshape(-1,1), scores.reshape(-1,1)), axis = 1), columns = ['feature', 'score'])\n",
        "score_tbl.sort_values(by='score', ascending = False)"
      ]
    },
    {
      "cell_type": "markdown",
      "metadata": {
        "id": "Z2sdyJQRucS1"
      },
      "source": [
        "\n",
        "\n",
        "---\n"
      ]
    },
    {
      "cell_type": "markdown",
      "metadata": {
        "id": "OyRu75vVUZug"
      },
      "source": [
        "# The $\\mathcal{H}$-graph\n",
        "\n",
        "Another aspect of feature interactions we might be interested in are feature redundancies; i.e. the situation where the Shapley value of feature $j$ becomes zero when feature $i$ is present. These relationships are captured by the zero-weight edges in the $\\mathcal{G}$-graph. In order to further explore the feature redundancy patterns, we therefore define the unweighted, directed $\\mathcal{H}$-graph.\n",
        "\n",
        "<br />\n",
        "\n",
        "\n",
        "The $\\mathcal{H}$-graph is defined to have an unweighted edge for every zero-weight edge in the $\\mathcal{G}$. Therefore each edge $i \\rightarrow j$ indicates that feature $i$ makes feature $j$ redundant.\n",
        "\n",
        "<br />\n",
        "\n",
        "Due to the sampling error from Shapley value estimation, in practice we use a parameter $\\gamma >0$ as a threshold for converting zero-weight edges in $\\mathcal{G}$ to edges in $\\mathcal{H}$"
      ]
    },
    {
      "cell_type": "code",
      "execution_count": null,
      "metadata": {
        "colab": {
          "base_uri": "https://localhost:8080/",
          "height": 268
        },
        "id": "CCbt7ANzUUZ_",
        "outputId": "e582379d-11e6-4701-990b-d9a8dfe3adca"
      },
      "outputs": [],
      "source": [
        "gamma = 1e-3\n",
        "biv_shapley_H = g2h(biv_shapley_G, gamma)\n",
        "\n",
        "plot_graph(biv_shapley_H.round(2), node_labels, directed = True, save_path = './graph.png', edge_width = 2)\n",
        "Image(filename='graph.png') "
      ]
    },
    {
      "cell_type": "markdown",
      "metadata": {
        "id": "1mZAsRq1Xc3y"
      },
      "source": [
        "## Identifying Mutually Redundant Features on $\\mathcal{H}$\n",
        "\n",
        "When two features simultaneously make the other redundant, we define these two features as **Mutually Redundant**. More concretely:\n",
        "\n",
        "<br />\n",
        "\n",
        "Given $i,j\\in D$, features $i,j$ are *mutually redundant* if $E^{2}(u)_{ij} = E^{2}(u)_{ji} =  0$.\n",
        "\n",
        "<br />\n",
        "\n",
        "\n",
        "Where $E^2$ is the Bivariate Shapley Matrix. In the $\\mathcal{H}$-graph, mutually redundant features can be identified as [strongly-connected components](https://en.wikipedia.org/wiki/Strongly_connected_component). In our example, the words \"ugly\" and \"hideous\" form a strongly connected component. Intuitively, this indicates that these two words are interchangeable; i.e. if the transformer model has only one of these words, it captures all the information provided by the other word (and vice-versa)."
      ]
    },
    {
      "cell_type": "code",
      "execution_count": null,
      "metadata": {
        "colab": {
          "base_uri": "https://localhost:8080/"
        },
        "id": "jGsl5QLQrpk4",
        "outputId": "35f0dc8b-138b-4ca5-e67d-1ef740d8952e"
      },
      "outputs": [],
      "source": [
        "MR = find_MR(biv_shapley_H) # provide the H-graph adjacency matrix to identify Mutually Redundant features\n",
        "\n",
        "# print identified clusters\n",
        "for cluster in MR:\n",
        "    print(np.array(node_labels)[cluster].tolist())"
      ]
    },
    {
      "cell_type": "markdown",
      "metadata": {
        "id": "Km1SVVrjXnmu"
      },
      "source": [
        "## Identifying Directionally Redundant Features on $\\mathcal{H}$\n",
        "\n",
        "In contrast to Mutually Redundant features, Directionally Redundant features only exhibit redundancy in one direction. In our example, the word \"hideous\" makes the words \"this\", \"table\", \"is\", and \"and\" redundant. This redundancy can be identified as the $\\mathcal{H}$-sink nodes in the $\\mathcal{H}$-graph.\n",
        "\n"
      ]
    },
    {
      "cell_type": "code",
      "execution_count": null,
      "metadata": {
        "colab": {
          "base_uri": "https://localhost:8080/"
        },
        "id": "m6e1kVaouhRB",
        "outputId": "4de0370b-bc48-4e98-a658-c7442182f70c"
      },
      "outputs": [],
      "source": [
        "DR_source, DR_sink, _ = find_DR(biv_shapley_H) # identify source / sink clusters\n",
        "\n",
        "\n",
        "# print identified clusters\n",
        "print('Sink Clusters; Directionally Redundant features')\n",
        "print_DR_clusters(DR_sink, node_labels)\n",
        "\n",
        "print('')\n",
        "print('Source Clusters')\n",
        "print_DR_clusters(DR_source, node_labels)\n"
      ]
    },
    {
      "cell_type": "markdown",
      "metadata": {
        "id": "oeLT5YTaxpk5"
      },
      "source": [
        "---\n",
        "\n",
        "# References\n",
        "<a id='references'></a>\n",
        "\n",
        "[1] Wolf, T., Debut, L., Sanh, V., Chaumond, J., Delangue, C., Moi, A., Cistac, P., Rault, T., Louf, R., Funtowicz, M., Davison, J., Shleifer, S., von Platen, P., Ma, C., Jernite, Y., Plu, J., Xu, C., Scao, T. L., Gugger, S., … Rush, A. M. (2020). Transformers: State-of-the-art natural language processing. Proceedings of the 2020 Conference on Empirical Methods in Natural Language Processing: System Demonstrations, 38–45. https://www.aclweb.org/anthology/2020.emnlp-demos.6\n",
        "\n",
        "<br />\n",
        "\n",
        "[2] Covert, I., Lundberg, S., & Lee, S.-I. (2020). Feature Removal Is a Unifying Principle for Model Explanation Methods. ArXiv:2011.03623 [Cs, Stat]. http://arxiv.org/abs/2011.03623\n",
        "\n",
        "<br />\n",
        "\n",
        "[3] Lundberg, S. M., & Lee, S.-I. (2017). A unified approach to interpreting model predictions. In I. Guyon, U. V. Luxburg, S. Bengio, H. Wallach, R. Fergus, S. Vishwanathan, & R. Garnett (Eds.), Advances in neural information processing systems 30 (pp. 4765–4774). Curran Associates, Inc. http://papers.nips.cc/paper/7062-a-unified-approach-to-interpreting-model-predictions.pdf\n",
        "\n",
        "<br />\n",
        "\n",
        "[4] Page, L., Brin, S., Motwani, R. & Winograd, T. (1998). The PageRank citation ranking: Bringing order to the Web. Proceedings of the 7th International World Wide Web Conference (p./pp. 161--172), Brisbane, Australia. \n",
        "\n"
      ]
    }
  ],
  "metadata": {
    "accelerator": "GPU",
    "colab": {
      "authorship_tag": "ABX9TyPaCXXyC/4Qj4bqSCHjlUpo",
      "collapsed_sections": [],
      "include_colab_link": true,
      "name": "example1_sentimentanalysis.ipynb",
      "provenance": []
    },
    "kernelspec": {
      "display_name": "Python 3",
      "name": "python3"
    },
    "language_info": {
      "name": "python"
    },
    "widgets": {
      "application/vnd.jupyter.widget-state+json": {
        "020392110cdc439cb152de7ea907be58": {
          "model_module": "@jupyter-widgets/controls",
          "model_module_version": "1.5.0",
          "model_name": "DescriptionStyleModel",
          "state": {
            "_model_module": "@jupyter-widgets/controls",
            "_model_module_version": "1.5.0",
            "_model_name": "DescriptionStyleModel",
            "_view_count": null,
            "_view_module": "@jupyter-widgets/base",
            "_view_module_version": "1.2.0",
            "_view_name": "StyleView",
            "description_width": ""
          }
        },
        "1a61a9829d09466e98f723ea3e9199c2": {
          "model_module": "@jupyter-widgets/base",
          "model_module_version": "1.2.0",
          "model_name": "LayoutModel",
          "state": {
            "_model_module": "@jupyter-widgets/base",
            "_model_module_version": "1.2.0",
            "_model_name": "LayoutModel",
            "_view_count": null,
            "_view_module": "@jupyter-widgets/base",
            "_view_module_version": "1.2.0",
            "_view_name": "LayoutView",
            "align_content": null,
            "align_items": null,
            "align_self": null,
            "border": null,
            "bottom": null,
            "display": null,
            "flex": null,
            "flex_flow": null,
            "grid_area": null,
            "grid_auto_columns": null,
            "grid_auto_flow": null,
            "grid_auto_rows": null,
            "grid_column": null,
            "grid_gap": null,
            "grid_row": null,
            "grid_template_areas": null,
            "grid_template_columns": null,
            "grid_template_rows": null,
            "height": null,
            "justify_content": null,
            "justify_items": null,
            "left": null,
            "margin": null,
            "max_height": null,
            "max_width": null,
            "min_height": null,
            "min_width": null,
            "object_fit": null,
            "object_position": null,
            "order": null,
            "overflow": null,
            "overflow_x": null,
            "overflow_y": null,
            "padding": null,
            "right": null,
            "top": null,
            "visibility": null,
            "width": null
          }
        },
        "26959d02d01b4c1387a2b484b102216d": {
          "model_module": "@jupyter-widgets/controls",
          "model_module_version": "1.5.0",
          "model_name": "HBoxModel",
          "state": {
            "_dom_classes": [],
            "_model_module": "@jupyter-widgets/controls",
            "_model_module_version": "1.5.0",
            "_model_name": "HBoxModel",
            "_view_count": null,
            "_view_module": "@jupyter-widgets/controls",
            "_view_module_version": "1.5.0",
            "_view_name": "HBoxView",
            "box_style": "",
            "children": [
              "IPY_MODEL_6c31944bca8140029e35b220d012413a",
              "IPY_MODEL_96e038db0a55491a974e320dc2daad4f",
              "IPY_MODEL_de8f12993583408db23c286cd2b5c2d8"
            ],
            "layout": "IPY_MODEL_1a61a9829d09466e98f723ea3e9199c2"
          }
        },
        "6c31944bca8140029e35b220d012413a": {
          "model_module": "@jupyter-widgets/controls",
          "model_module_version": "1.5.0",
          "model_name": "HTMLModel",
          "state": {
            "_dom_classes": [],
            "_model_module": "@jupyter-widgets/controls",
            "_model_module_version": "1.5.0",
            "_model_name": "HTMLModel",
            "_view_count": null,
            "_view_module": "@jupyter-widgets/controls",
            "_view_module_version": "1.5.0",
            "_view_name": "HTMLView",
            "description": "",
            "description_tooltip": null,
            "layout": "IPY_MODEL_dd3d9619f30a4b8f9fb6026683e74e1b",
            "placeholder": "​",
            "style": "IPY_MODEL_020392110cdc439cb152de7ea907be58",
            "value": "100%"
          }
        },
        "96e038db0a55491a974e320dc2daad4f": {
          "model_module": "@jupyter-widgets/controls",
          "model_module_version": "1.5.0",
          "model_name": "FloatProgressModel",
          "state": {
            "_dom_classes": [],
            "_model_module": "@jupyter-widgets/controls",
            "_model_module_version": "1.5.0",
            "_model_name": "FloatProgressModel",
            "_view_count": null,
            "_view_module": "@jupyter-widgets/controls",
            "_view_module_version": "1.5.0",
            "_view_name": "ProgressView",
            "bar_style": "success",
            "description": "",
            "description_tooltip": null,
            "layout": "IPY_MODEL_ef750be928c54f73890e2d42a952ee81",
            "max": 1,
            "min": 0,
            "orientation": "horizontal",
            "style": "IPY_MODEL_b4f8200d39254c3994818322bdd4135c",
            "value": 1
          }
        },
        "b4f8200d39254c3994818322bdd4135c": {
          "model_module": "@jupyter-widgets/controls",
          "model_module_version": "1.5.0",
          "model_name": "ProgressStyleModel",
          "state": {
            "_model_module": "@jupyter-widgets/controls",
            "_model_module_version": "1.5.0",
            "_model_name": "ProgressStyleModel",
            "_view_count": null,
            "_view_module": "@jupyter-widgets/base",
            "_view_module_version": "1.2.0",
            "_view_name": "StyleView",
            "bar_color": null,
            "description_width": ""
          }
        },
        "b7705325522f422d8aae2feda1eb106c": {
          "model_module": "@jupyter-widgets/controls",
          "model_module_version": "1.5.0",
          "model_name": "DescriptionStyleModel",
          "state": {
            "_model_module": "@jupyter-widgets/controls",
            "_model_module_version": "1.5.0",
            "_model_name": "DescriptionStyleModel",
            "_view_count": null,
            "_view_module": "@jupyter-widgets/base",
            "_view_module_version": "1.2.0",
            "_view_name": "StyleView",
            "description_width": ""
          }
        },
        "cf61511b52d14773b5b9bfc198c5a2d5": {
          "model_module": "@jupyter-widgets/base",
          "model_module_version": "1.2.0",
          "model_name": "LayoutModel",
          "state": {
            "_model_module": "@jupyter-widgets/base",
            "_model_module_version": "1.2.0",
            "_model_name": "LayoutModel",
            "_view_count": null,
            "_view_module": "@jupyter-widgets/base",
            "_view_module_version": "1.2.0",
            "_view_name": "LayoutView",
            "align_content": null,
            "align_items": null,
            "align_self": null,
            "border": null,
            "bottom": null,
            "display": null,
            "flex": null,
            "flex_flow": null,
            "grid_area": null,
            "grid_auto_columns": null,
            "grid_auto_flow": null,
            "grid_auto_rows": null,
            "grid_column": null,
            "grid_gap": null,
            "grid_row": null,
            "grid_template_areas": null,
            "grid_template_columns": null,
            "grid_template_rows": null,
            "height": null,
            "justify_content": null,
            "justify_items": null,
            "left": null,
            "margin": null,
            "max_height": null,
            "max_width": null,
            "min_height": null,
            "min_width": null,
            "object_fit": null,
            "object_position": null,
            "order": null,
            "overflow": null,
            "overflow_x": null,
            "overflow_y": null,
            "padding": null,
            "right": null,
            "top": null,
            "visibility": null,
            "width": null
          }
        },
        "dd3d9619f30a4b8f9fb6026683e74e1b": {
          "model_module": "@jupyter-widgets/base",
          "model_module_version": "1.2.0",
          "model_name": "LayoutModel",
          "state": {
            "_model_module": "@jupyter-widgets/base",
            "_model_module_version": "1.2.0",
            "_model_name": "LayoutModel",
            "_view_count": null,
            "_view_module": "@jupyter-widgets/base",
            "_view_module_version": "1.2.0",
            "_view_name": "LayoutView",
            "align_content": null,
            "align_items": null,
            "align_self": null,
            "border": null,
            "bottom": null,
            "display": null,
            "flex": null,
            "flex_flow": null,
            "grid_area": null,
            "grid_auto_columns": null,
            "grid_auto_flow": null,
            "grid_auto_rows": null,
            "grid_column": null,
            "grid_gap": null,
            "grid_row": null,
            "grid_template_areas": null,
            "grid_template_columns": null,
            "grid_template_rows": null,
            "height": null,
            "justify_content": null,
            "justify_items": null,
            "left": null,
            "margin": null,
            "max_height": null,
            "max_width": null,
            "min_height": null,
            "min_width": null,
            "object_fit": null,
            "object_position": null,
            "order": null,
            "overflow": null,
            "overflow_x": null,
            "overflow_y": null,
            "padding": null,
            "right": null,
            "top": null,
            "visibility": null,
            "width": null
          }
        },
        "de8f12993583408db23c286cd2b5c2d8": {
          "model_module": "@jupyter-widgets/controls",
          "model_module_version": "1.5.0",
          "model_name": "HTMLModel",
          "state": {
            "_dom_classes": [],
            "_model_module": "@jupyter-widgets/controls",
            "_model_module_version": "1.5.0",
            "_model_name": "HTMLModel",
            "_view_count": null,
            "_view_module": "@jupyter-widgets/controls",
            "_view_module_version": "1.5.0",
            "_view_name": "HTMLView",
            "description": "",
            "description_tooltip": null,
            "layout": "IPY_MODEL_cf61511b52d14773b5b9bfc198c5a2d5",
            "placeholder": "​",
            "style": "IPY_MODEL_b7705325522f422d8aae2feda1eb106c",
            "value": " 1/1 [00:04&lt;00:00,  4.64s/it]"
          }
        },
        "ef750be928c54f73890e2d42a952ee81": {
          "model_module": "@jupyter-widgets/base",
          "model_module_version": "1.2.0",
          "model_name": "LayoutModel",
          "state": {
            "_model_module": "@jupyter-widgets/base",
            "_model_module_version": "1.2.0",
            "_model_name": "LayoutModel",
            "_view_count": null,
            "_view_module": "@jupyter-widgets/base",
            "_view_module_version": "1.2.0",
            "_view_name": "LayoutView",
            "align_content": null,
            "align_items": null,
            "align_self": null,
            "border": null,
            "bottom": null,
            "display": null,
            "flex": null,
            "flex_flow": null,
            "grid_area": null,
            "grid_auto_columns": null,
            "grid_auto_flow": null,
            "grid_auto_rows": null,
            "grid_column": null,
            "grid_gap": null,
            "grid_row": null,
            "grid_template_areas": null,
            "grid_template_columns": null,
            "grid_template_rows": null,
            "height": null,
            "justify_content": null,
            "justify_items": null,
            "left": null,
            "margin": null,
            "max_height": null,
            "max_width": null,
            "min_height": null,
            "min_width": null,
            "object_fit": null,
            "object_position": null,
            "order": null,
            "overflow": null,
            "overflow_x": null,
            "overflow_y": null,
            "padding": null,
            "right": null,
            "top": null,
            "visibility": null,
            "width": null
          }
        }
      }
    }
  },
  "nbformat": 4,
  "nbformat_minor": 0
}
